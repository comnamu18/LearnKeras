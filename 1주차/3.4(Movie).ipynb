{
 "cells": [
  {
   "cell_type": "code",
   "execution_count": 1,
   "metadata": {},
   "outputs": [],
   "source": [
    "from keras.datasets import imdb\n",
    "\n",
    "(train_data, train_labels), (test_data, test_labels) = imdb.load_data(num_words=10000)"
   ]
  },
  {
   "cell_type": "code",
   "execution_count": 3,
   "metadata": {},
   "outputs": [],
   "source": [
    "word_index = imdb.get_word_index()\n",
    "reverse_word_index = dict([(value, key) for (key, value) in word_index.items()])\n",
    "decoded_review = ' '.join([reverse_word_index.get(i-3, '?') for i in train_data[0]])"
   ]
  },
  {
   "cell_type": "code",
   "execution_count": 4,
   "metadata": {},
   "outputs": [
    {
     "data": {
      "text/plain": [
       "\"? this film was just brilliant casting location scenery story direction everyone's really suited the part they played and you could just imagine being there robert ? is an amazing actor and now the same being director ? father came from the same scottish island as myself so i loved the fact there was a real connection with this film the witty remarks throughout the film were great it was just brilliant so much that i bought the film as soon as it was released for ? and would recommend it to everyone to watch and the fly fishing was amazing really cried at the end it was so sad and you know what they say if you cry at a film it must have been good and this definitely was also ? to the two little boy's that played the ? of norman and paul they were just brilliant children are often left out of the ? list i think because the stars that play them all grown up are such a big profile for the whole film but these children are amazing and should be praised for what they have done don't you think the whole story was so lovely because it was true and was someone's life after all that was shared with us all\""
      ]
     },
     "execution_count": 4,
     "metadata": {},
     "output_type": "execute_result"
    }
   ],
   "source": [
    "decoded_review"
   ]
  },
  {
   "cell_type": "code",
   "execution_count": 6,
   "metadata": {},
   "outputs": [],
   "source": [
    "import numpy as np\n",
    "\n",
    "def vectorize_sequence(sequences, dimension=10000):\n",
    "    results = np.zeros((len(sequences),dimension))\n",
    "    for i, sequence in enumerate(sequences):\n",
    "        results[i, sequence] = 1.\n",
    "    return results\n",
    "\n",
    "x_train = vectorize_sequence(train_data)\n",
    "x_test = vectorize_sequence(test_data)"
   ]
  },
  {
   "cell_type": "code",
   "execution_count": 7,
   "metadata": {},
   "outputs": [],
   "source": [
    "y_train = np.array(train_labels).astype('float32')\n",
    "y_test = np.array(test_labels).astype('float32')"
   ]
  },
  {
   "cell_type": "code",
   "execution_count": 8,
   "metadata": {},
   "outputs": [],
   "source": [
    "from keras import models\n",
    "from keras import layers\n",
    "\n",
    "model = models.Sequential()\n",
    "model.add(layers.Dense(16, activation='relu', input_shape = (10000,)))\n",
    "model.add(layers.Dense(16, activation='relu'))\n",
    "model.add(layers.Dense(1, activation='sigmoid'))"
   ]
  },
  {
   "cell_type": "code",
   "execution_count": 10,
   "metadata": {},
   "outputs": [
    {
     "name": "stdout",
     "output_type": "stream",
     "text": [
      "WARNING:tensorflow:From C:\\Users\\gogi\\Anaconda3\\lib\\site-packages\\tensorflow\\python\\ops\\nn_impl.py:180: add_dispatch_support.<locals>.wrapper (from tensorflow.python.ops.array_ops) is deprecated and will be removed in a future version.\n",
      "Instructions for updating:\n",
      "Use tf.where in 2.0, which has the same broadcast rule as np.where\n"
     ]
    }
   ],
   "source": [
    "model.compile(optimizer='rmsprop',\n",
    "              loss='binary_crossentropy',\n",
    "              metrics=['accuracy'])"
   ]
  },
  {
   "cell_type": "code",
   "execution_count": 14,
   "metadata": {},
   "outputs": [],
   "source": [
    "x_val = x_train[:10000]\n",
    "partial_x_train = x_train[10000:]\n",
    "y_val = y_train[:10000]\n",
    "partial_y_train = y_train[10000:]"
   ]
  },
  {
   "cell_type": "code",
   "execution_count": 16,
   "metadata": {},
   "outputs": [
    {
     "name": "stdout",
     "output_type": "stream",
     "text": [
      "WARNING:tensorflow:From C:\\Users\\gogi\\Anaconda3\\lib\\site-packages\\keras\\backend\\tensorflow_backend.py:422: The name tf.global_variables is deprecated. Please use tf.compat.v1.global_variables instead.\n",
      "\n",
      "Train on 15000 samples, validate on 10000 samples\n",
      "Epoch 1/20\n",
      "15000/15000 [==============================] - 6s 369us/step - loss: 0.5183 - accuracy: 0.7884 - val_loss: 0.3899 - val_accuracy: 0.8695\n",
      "Epoch 2/20\n",
      "15000/15000 [==============================] - 4s 244us/step - loss: 0.3045 - accuracy: 0.9003 - val_loss: 0.3205 - val_accuracy: 0.8790\n",
      "Epoch 3/20\n",
      "15000/15000 [==============================] - 4s 258us/step - loss: 0.2221 - accuracy: 0.9255 - val_loss: 0.2783 - val_accuracy: 0.8906\n",
      "Epoch 4/20\n",
      "15000/15000 [==============================] - 4s 251us/step - loss: 0.1741 - accuracy: 0.9420 - val_loss: 0.2935 - val_accuracy: 0.8824\n",
      "Epoch 5/20\n",
      "15000/15000 [==============================] - 4s 270us/step - loss: 0.1393 - accuracy: 0.9555 - val_loss: 0.2868 - val_accuracy: 0.8874\n",
      "Epoch 6/20\n",
      "15000/15000 [==============================] - 4s 266us/step - loss: 0.1111 - accuracy: 0.9663 - val_loss: 0.2990 - val_accuracy: 0.8846\n",
      "Epoch 7/20\n",
      "15000/15000 [==============================] - 4s 251us/step - loss: 0.0951 - accuracy: 0.9713 - val_loss: 0.3138 - val_accuracy: 0.8841\n",
      "Epoch 8/20\n",
      "15000/15000 [==============================] - 4s 261us/step - loss: 0.0751 - accuracy: 0.9798 - val_loss: 0.3357 - val_accuracy: 0.8810\n",
      "Epoch 9/20\n",
      "15000/15000 [==============================] - 4s 270us/step - loss: 0.0623 - accuracy: 0.9834 - val_loss: 0.3590 - val_accuracy: 0.8806\n",
      "Epoch 10/20\n",
      "15000/15000 [==============================] - 3s 229us/step - loss: 0.0499 - accuracy: 0.9873 - val_loss: 0.4100 - val_accuracy: 0.8762\n",
      "Epoch 11/20\n",
      "15000/15000 [==============================] - 4s 256us/step - loss: 0.0391 - accuracy: 0.9910 - val_loss: 0.4157 - val_accuracy: 0.8743\n",
      "Epoch 12/20\n",
      "15000/15000 [==============================] - 4s 269us/step - loss: 0.0323 - accuracy: 0.9933 - val_loss: 0.4421 - val_accuracy: 0.8728\n",
      "Epoch 13/20\n",
      "15000/15000 [==============================] - 4s 269us/step - loss: 0.0243 - accuracy: 0.9955 - val_loss: 0.4706 - val_accuracy: 0.8726\n",
      "Epoch 14/20\n",
      "15000/15000 [==============================] - 4s 262us/step - loss: 0.0179 - accuracy: 0.9979 - val_loss: 0.5104 - val_accuracy: 0.8703\n",
      "Epoch 15/20\n",
      "15000/15000 [==============================] - 4s 262us/step - loss: 0.0156 - accuracy: 0.9971 - val_loss: 0.5515 - val_accuracy: 0.8667\n",
      "Epoch 16/20\n",
      "15000/15000 [==============================] - 4s 274us/step - loss: 0.0108 - accuracy: 0.9989 - val_loss: 0.5862 - val_accuracy: 0.8709\n",
      "Epoch 17/20\n",
      "15000/15000 [==============================] - 4s 253us/step - loss: 0.0063 - accuracy: 0.9997 - val_loss: 0.6525 - val_accuracy: 0.8684\n",
      "Epoch 18/20\n",
      "15000/15000 [==============================] - 4s 245us/step - loss: 0.0065 - accuracy: 0.9992 - val_loss: 0.6675 - val_accuracy: 0.8675\n",
      "Epoch 19/20\n",
      "15000/15000 [==============================] - 3s 231us/step - loss: 0.0078 - accuracy: 0.9976 - val_loss: 0.6993 - val_accuracy: 0.8676\n",
      "Epoch 20/20\n",
      "15000/15000 [==============================] - 4s 250us/step - loss: 0.0023 - accuracy: 0.9998 - val_loss: 0.7290 - val_accuracy: 0.8667\n"
     ]
    }
   ],
   "source": [
    "history = model.fit(partial_x_train,\n",
    "                    partial_y_train,\n",
    "                    epochs=20,\n",
    "                    batch_size=512,\n",
    "                    validation_data=(x_val,y_val))"
   ]
  },
  {
   "cell_type": "code",
   "execution_count": 18,
   "metadata": {},
   "outputs": [
    {
     "data": {
      "image/png": "[encoded data removed]",
      "text/plain": [
       "<Figure size 432x288 with 1 Axes>"
      ]
     },
     "metadata": {
      "needs_background": "light"
     },
     "output_type": "display_data"
    }
   ],
   "source": [
    "import matplotlib.pyplot as plt\n",
    "\n",
    "history_dict = history.history\n",
    "loss = history_dict['loss']\n",
    "val_loss = history_dict['val_loss']\n",
    "\n",
    "epochs = range(1,len(loss)+1)\n",
    "\n",
    "plt.plot(epochs,loss,'bo',label='Training loss')\n",
    "plt.plot(epochs,val_loss,'b',label='Validation loss')\n",
    "plt.title('Training and validation loss')\n",
    "plt.xlabel('Epochs')\n",
    "plt.ylabel('Loss')\n",
    "plt.legend()\n",
    "\n",
    "plt.show()"
   ]
  },
  {
   "cell_type": "code",
   "execution_count": 26,
   "metadata": {},
   "outputs": [
    {
     "data": {
      "image/png": "[encoded data removed]",
      "text/plain": [
       "<Figure size 432x288 with 1 Axes>"
      ]
     },
     "metadata": {
      "needs_background": "light"
     },
     "output_type": "display_data"
    }
   ],
   "source": [
    "plt.clf()\n",
    "acc = history_dict['accuracy']\n",
    "val_acc = history_dict['val_accuracy']\n",
    "\n",
    "plt.plot(epochs,acc,'bo',label='Training acc')\n",
    "plt.plot(epochs,val_acc,'b',label='Validation acc')\n",
    "plt.title('Training and validation accuracy')\n",
    "plt.xlabel('Epochs')\n",
    "plt.ylabel('Accuracy')\n",
    "plt.legend()\n",
    "\n",
    "plt.show()"
   ]
  },
  {
   "cell_type": "code",
   "execution_count": 28,
   "metadata": {},
   "outputs": [
    {
     "name": "stdout",
     "output_type": "stream",
     "text": [
      "Epoch 1/4\n",
      "25000/25000 [==============================] - 5s 182us/step - loss: 0.2365 - accuracy: 0.9455\n",
      "Epoch 2/4\n",
      "25000/25000 [==============================] - 4s 151us/step - loss: 0.1348 - accuracy: 0.9602\n",
      "Epoch 3/4\n",
      "25000/25000 [==============================] - 4s 157us/step - loss: 0.1027 - accuracy: 0.9695\n",
      "Epoch 4/4\n",
      "25000/25000 [==============================] - 4s 157us/step - loss: 0.0811 - accuracy: 0.9759\n",
      "25000/25000 [==============================] - 8s 315us/step\n"
     ]
    }
   ],
   "source": [
    "model.fit(x_train,y_train,epochs=4,batch_size=512)\n",
    "results = model.evaluate(x_test,y_test)"
   ]
  },
  {
   "cell_type": "code",
   "execution_count": 31,
   "metadata": {},
   "outputs": [
    {
     "data": {
      "text/plain": [
       "[0.4795830348110199, 0.8603600263595581]"
      ]
     },
     "execution_count": 31,
     "metadata": {},
     "output_type": "execute_result"
    }
   ],
   "source": [
    "results"
   ]
  },
  {
   "cell_type": "code",
   "execution_count": 32,
   "metadata": {},
   "outputs": [
    {
     "data": {
      "text/plain": [
       "array([[0.03619483],\n",
       "       [1.        ],\n",
       "       [0.9641223 ],\n",
       "       ...,\n",
       "       [0.10809514],\n",
       "       [0.01955497],\n",
       "       [0.8228271 ]], dtype=float32)"
      ]
     },
     "execution_count": 32,
     "metadata": {},
     "output_type": "execute_result"
    }
   ],
   "source": [
    "model.predict(x_test)"
   ]
  },
  {
   "cell_type": "code",
   "execution_count": null,
   "metadata": {},
   "outputs": [],
   "source": []
  }
 ],
 "metadata": {
  "kernelspec": {
   "display_name": "Python 3",
   "language": "python",
   "name": "python3"
  },
  "language_info": {
   "codemirror_mode": {
    "name": "ipython",
    "version": 3
   },
   "file_extension": ".py",
   "mimetype": "text/x-python",
   "name": "python",
   "nbconvert_exporter": "python",
   "pygments_lexer": "ipython3",
   "version": "3.7.4"
  }
 },
 "nbformat": 4,
 "nbformat_minor": 2
}
