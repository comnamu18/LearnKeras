{
 "cells": [
  {
   "cell_type": "code",
   "execution_count": 29,
   "metadata": {},
   "outputs": [
    {
     "data": {
      "text/plain": [
       "'2.3.0'"
      ]
     },
     "execution_count": 29,
     "metadata": {},
     "output_type": "execute_result"
    }
   ],
   "source": [
    "import keras\n",
    "keras.__version__"
   ]
  },
  {
   "cell_type": "code",
   "execution_count": 2,
   "metadata": {},
   "outputs": [],
   "source": [
    "from keras.datasets import reuters\n",
    "\n",
    "(train_data, train_labels), (test_data, test_labels) = reuters.load_data(num_words=10000)"
   ]
  },
  {
   "cell_type": "code",
   "execution_count": 3,
   "metadata": {},
   "outputs": [
    {
     "data": {
      "text/plain": [
       "8982"
      ]
     },
     "execution_count": 3,
     "metadata": {},
     "output_type": "execute_result"
    }
   ],
   "source": [
    "len(train_data)"
   ]
  },
  {
   "cell_type": "code",
   "execution_count": 4,
   "metadata": {},
   "outputs": [
    {
     "data": {
      "text/plain": [
       "2246"
      ]
     },
     "execution_count": 4,
     "metadata": {},
     "output_type": "execute_result"
    }
   ],
   "source": [
    "len(test_data)"
   ]
  },
  {
   "cell_type": "code",
   "execution_count": 5,
   "metadata": {},
   "outputs": [
    {
     "data": {
      "text/plain": [
       "[1,\n",
       " 245,\n",
       " 273,\n",
       " 207,\n",
       " 156,\n",
       " 53,\n",
       " 74,\n",
       " 160,\n",
       " 26,\n",
       " 14,\n",
       " 46,\n",
       " 296,\n",
       " 26,\n",
       " 39,\n",
       " 74,\n",
       " 2979,\n",
       " 3554,\n",
       " 14,\n",
       " 46,\n",
       " 4689,\n",
       " 4329,\n",
       " 86,\n",
       " 61,\n",
       " 3499,\n",
       " 4795,\n",
       " 14,\n",
       " 61,\n",
       " 451,\n",
       " 4329,\n",
       " 17,\n",
       " 12]"
      ]
     },
     "execution_count": 5,
     "metadata": {},
     "output_type": "execute_result"
    }
   ],
   "source": [
    "train_data[10]"
   ]
  },
  {
   "cell_type": "code",
   "execution_count": 6,
   "metadata": {},
   "outputs": [],
   "source": [
    "word_index = reuters.get_word_index()\n",
    "reverse_word_index = dict([(value, key) for (key, value) in word_index.items()])\n",
    "# 0, 1, 2는 '패딩', '문서 시작', '사전에 없음'을 위한 인덱스이므로 3을 뺍니다\n",
    "decoded_newswire = ' '.join([reverse_word_index.get(i - 3, '?') for i in train_data[0]])"
   ]
  },
  {
   "cell_type": "code",
   "execution_count": 7,
   "metadata": {},
   "outputs": [
    {
     "data": {
      "text/plain": [
       "'? ? ? said as a result of its december acquisition of space co it expects earnings per share in 1987 of 1 15 to 1 30 dlrs per share up from 70 cts in 1986 the company said pretax net should rise to nine to 10 mln dlrs from six mln dlrs in 1986 and rental operation revenues to 19 to 22 mln dlrs from 12 5 mln dlrs it said cash flow per share this year should be 2 50 to three dlrs reuter 3'"
      ]
     },
     "execution_count": 7,
     "metadata": {},
     "output_type": "execute_result"
    }
   ],
   "source": [
    "decoded_newswire"
   ]
  },
  {
   "cell_type": "code",
   "execution_count": 8,
   "metadata": {},
   "outputs": [
    {
     "data": {
      "text/plain": [
       "3"
      ]
     },
     "execution_count": 8,
     "metadata": {},
     "output_type": "execute_result"
    }
   ],
   "source": [
    "train_labels[10]"
   ]
  },
  {
   "cell_type": "code",
   "execution_count": 9,
   "metadata": {},
   "outputs": [],
   "source": [
    "import numpy as np\n",
    "\n",
    "def vectorize_sequences(sequences, dimension=10000):\n",
    "    results = np.zeros((len(sequences), dimension))\n",
    "    for i, sequence in enumerate(sequences):\n",
    "        results[i, sequence] = 1.\n",
    "    return results\n",
    "\n",
    "# 훈련 데이터 벡터 변환\n",
    "x_train = vectorize_sequences(train_data)\n",
    "# 테스트 데이터 벡터 변환\n",
    "x_test = vectorize_sequences(test_data)"
   ]
  },
  {
   "cell_type": "code",
   "execution_count": 10,
   "metadata": {},
   "outputs": [],
   "source": [
    "def to_one_hot(labels, dimension=46):\n",
    "    results = np.zeros((len(labels), dimension))\n",
    "    for i, label in enumerate(labels):\n",
    "        results[i, label] = 1.\n",
    "    return results\n",
    "\n",
    "# 훈련 레이블 벡터 변환\n",
    "one_hot_train_labels = to_one_hot(train_labels)\n",
    "# 테스트 레이블 벡터 변환\n",
    "one_hot_test_labels = to_one_hot(test_labels)"
   ]
  },
  {
   "cell_type": "code",
   "execution_count": 11,
   "metadata": {},
   "outputs": [],
   "source": [
    "from keras.utils.np_utils import to_categorical\n",
    "\n",
    "one_hot_train_labels = to_categorical(train_labels)\n",
    "one_hot_test_labels = to_categorical(test_labels)"
   ]
  },
  {
   "cell_type": "code",
   "execution_count": 12,
   "metadata": {},
   "outputs": [],
   "source": [
    "from keras import models\n",
    "from keras import layers\n",
    "\n",
    "model = models.Sequential()\n",
    "model.add(layers.Dense(64, activation='relu', input_shape=(10000,)))\n",
    "model.add(layers.Dense(64, activation='relu'))\n",
    "model.add(layers.Dense(46, activation='softmax'))"
   ]
  },
  {
   "cell_type": "code",
   "execution_count": 13,
   "metadata": {},
   "outputs": [],
   "source": [
    "model.compile(optimizer='rmsprop',\n",
    "              loss='categorical_crossentropy',\n",
    "              metrics=['accuracy'])"
   ]
  },
  {
   "cell_type": "code",
   "execution_count": 14,
   "metadata": {},
   "outputs": [],
   "source": [
    "x_val = x_train[:1000]\n",
    "partial_x_train = x_train[1000:]\n",
    "\n",
    "y_val = one_hot_train_labels[:1000]\n",
    "partial_y_train = one_hot_train_labels[1000:]"
   ]
  },
  {
   "cell_type": "code",
   "execution_count": 15,
   "metadata": {},
   "outputs": [
    {
     "name": "stdout",
     "output_type": "stream",
     "text": [
      "WARNING:tensorflow:From C:\\Users\\HYUN\\.conda\\envs\\venv\\lib\\site-packages\\keras-2.3.0-py3.7.egg\\keras\\backend\\tensorflow_backend.py:422: The name tf.global_variables is deprecated. Please use tf.compat.v1.global_variables instead.\n",
      "\n",
      "Train on 7982 samples, validate on 1000 samples\n",
      "Epoch 1/20\n",
      "7982/7982 [==============================] - 1s 172us/step - loss: 2.7854 - accuracy: 0.5020 - val_loss: 1.8701 - val_accuracy: 0.6350\n",
      "Epoch 2/20\n",
      "7982/7982 [==============================] - 1s 144us/step - loss: 1.4833 - accuracy: 0.6997 - val_loss: 1.3404 - val_accuracy: 0.7010\n",
      "Epoch 3/20\n",
      "7982/7982 [==============================] - 1s 144us/step - loss: 1.0595 - accuracy: 0.7764 - val_loss: 1.1446 - val_accuracy: 0.7760\n",
      "Epoch 4/20\n",
      "7982/7982 [==============================] - 1s 140us/step - loss: 0.8275 - accuracy: 0.8291 - val_loss: 1.0256 - val_accuracy: 0.7910\n",
      "Epoch 5/20\n",
      "7982/7982 [==============================] - 1s 141us/step - loss: 0.6533 - accuracy: 0.8637 - val_loss: 0.9560 - val_accuracy: 0.8130\n",
      "Epoch 6/20\n",
      "7982/7982 [==============================] - 1s 145us/step - loss: 0.5235 - accuracy: 0.8903 - val_loss: 0.9249 - val_accuracy: 0.8020\n",
      "Epoch 7/20\n",
      "7982/7982 [==============================] - 1s 140us/step - loss: 0.4203 - accuracy: 0.9132 - val_loss: 0.8959 - val_accuracy: 0.8130\n",
      "Epoch 8/20\n",
      "7982/7982 [==============================] - 1s 140us/step - loss: 0.3380 - accuracy: 0.9285 - val_loss: 0.8696 - val_accuracy: 0.8260\n",
      "Epoch 9/20\n",
      "7982/7982 [==============================] - 1s 140us/step - loss: 0.2817 - accuracy: 0.9394 - val_loss: 0.8762 - val_accuracy: 0.8210\n",
      "Epoch 10/20\n",
      "7982/7982 [==============================] - 1s 140us/step - loss: 0.2375 - accuracy: 0.9444 - val_loss: 0.9086 - val_accuracy: 0.8220\n",
      "Epoch 11/20\n",
      "7982/7982 [==============================] - 1s 141us/step - loss: 0.2060 - accuracy: 0.9503 - val_loss: 0.8903 - val_accuracy: 0.8180\n",
      "Epoch 12/20\n",
      "7982/7982 [==============================] - 1s 140us/step - loss: 0.1802 - accuracy: 0.9500 - val_loss: 0.9244 - val_accuracy: 0.8140\n",
      "Epoch 13/20\n",
      "7982/7982 [==============================] - 1s 146us/step - loss: 0.1671 - accuracy: 0.9519 - val_loss: 0.9531 - val_accuracy: 0.8100\n",
      "Epoch 14/20\n",
      "7982/7982 [==============================] - 1s 140us/step - loss: 0.1499 - accuracy: 0.9538 - val_loss: 0.9655 - val_accuracy: 0.8120\n",
      "Epoch 15/20\n",
      "7982/7982 [==============================] - 1s 140us/step - loss: 0.1414 - accuracy: 0.9550 - val_loss: 0.9729 - val_accuracy: 0.8050\n",
      "Epoch 16/20\n",
      "7982/7982 [==============================] - 1s 138us/step - loss: 0.1330 - accuracy: 0.9578 - val_loss: 0.9905 - val_accuracy: 0.8120\n",
      "Epoch 17/20\n",
      "7982/7982 [==============================] - 1s 145us/step - loss: 0.1211 - accuracy: 0.9574 - val_loss: 0.9973 - val_accuracy: 0.8110\n",
      "Epoch 18/20\n",
      "7982/7982 [==============================] - 1s 139us/step - loss: 0.1219 - accuracy: 0.9575 - val_loss: 1.0095 - val_accuracy: 0.8040\n",
      "Epoch 19/20\n",
      "7982/7982 [==============================] - 1s 138us/step - loss: 0.1121 - accuracy: 0.9584 - val_loss: 1.0855 - val_accuracy: 0.8050\n",
      "Epoch 20/20\n",
      "7982/7982 [==============================] - 1s 138us/step - loss: 0.1136 - accuracy: 0.9584 - val_loss: 1.0584 - val_accuracy: 0.8040\n"
     ]
    }
   ],
   "source": [
    "history = model.fit(partial_x_train,\n",
    "                    partial_y_train,\n",
    "                    epochs=20,\n",
    "                    batch_size=512,\n",
    "                    validation_data=(x_val, y_val))"
   ]
  },
  {
   "cell_type": "code",
   "execution_count": 16,
   "metadata": {},
   "outputs": [],
   "source": [
    "import matplotlib.pyplot as plt"
   ]
  },
  {
   "cell_type": "code",
   "execution_count": 17,
   "metadata": {},
   "outputs": [
    {
     "data": {
      "image/png": "[encoded data removed]",
      "text/plain": [
       "<Figure size 432x288 with 1 Axes>"
      ]
     },
     "metadata": {
      "needs_background": "light"
     },
     "output_type": "display_data"
    }
   ],
   "source": [
    "loss = history.history['loss']\n",
    "val_loss = history.history['val_loss']\n",
    "\n",
    "epochs = range(1, len(loss) + 1)\n",
    "\n",
    "plt.plot(epochs, loss, 'bo', label='Training loss')\n",
    "plt.plot(epochs, val_loss, 'b', label='Validation loss')\n",
    "plt.title('Training and validation loss')\n",
    "plt.xlabel('Epochs')\n",
    "plt.ylabel('Loss')\n",
    "plt.legend()\n",
    "\n",
    "plt.show()"
   ]
  },
  {
   "cell_type": "code",
   "execution_count": 18,
   "metadata": {},
   "outputs": [
    {
     "ename": "KeyError",
     "evalue": "'acc'",
     "output_type": "error",
     "traceback": [
      "\u001b[1;31m---------------------------------------------------------------------------\u001b[0m",
      "\u001b[1;31mKeyError\u001b[0m                                  Traceback (most recent call last)",
      "\u001b[1;32m<ipython-input-18-d0f4978e319b>\u001b[0m in \u001b[0;36m<module>\u001b[1;34m\u001b[0m\n\u001b[0;32m      1\u001b[0m \u001b[0mplt\u001b[0m\u001b[1;33m.\u001b[0m\u001b[0mclf\u001b[0m\u001b[1;33m(\u001b[0m\u001b[1;33m)\u001b[0m   \u001b[1;31m# 그래프를 초기화합니다\u001b[0m\u001b[1;33m\u001b[0m\u001b[1;33m\u001b[0m\u001b[0m\n\u001b[0;32m      2\u001b[0m \u001b[1;33m\u001b[0m\u001b[0m\n\u001b[1;32m----> 3\u001b[1;33m \u001b[0macc\u001b[0m \u001b[1;33m=\u001b[0m \u001b[0mhistory\u001b[0m\u001b[1;33m.\u001b[0m\u001b[0mhistory\u001b[0m\u001b[1;33m[\u001b[0m\u001b[1;34m'acc'\u001b[0m\u001b[1;33m]\u001b[0m\u001b[1;33m\u001b[0m\u001b[1;33m\u001b[0m\u001b[0m\n\u001b[0m\u001b[0;32m      4\u001b[0m \u001b[0mval_acc\u001b[0m \u001b[1;33m=\u001b[0m \u001b[0mhistory\u001b[0m\u001b[1;33m.\u001b[0m\u001b[0mhistory\u001b[0m\u001b[1;33m[\u001b[0m\u001b[1;34m'val_acc'\u001b[0m\u001b[1;33m]\u001b[0m\u001b[1;33m\u001b[0m\u001b[1;33m\u001b[0m\u001b[0m\n\u001b[0;32m      5\u001b[0m \u001b[1;33m\u001b[0m\u001b[0m\n",
      "\u001b[1;31mKeyError\u001b[0m: 'acc'"
     ]
    },
    {
     "data": {
      "text/plain": [
       "<Figure size 432x288 with 0 Axes>"
      ]
     },
     "metadata": {},
     "output_type": "display_data"
    }
   ],
   "source": [
    "plt.clf()   # 그래프를 초기화합니다\n",
    "\n",
    "acc = history.history['acc']\n",
    "val_acc = history.history['val_acc']\n",
    "\n",
    "plt.plot(epochs, acc, 'bo', label='Training acc')\n",
    "plt.plot(epochs, val_acc, 'b', label='Validation acc')\n",
    "plt.title('Training and validation accuracy')\n",
    "plt.xlabel('Epochs')\n",
    "plt.ylabel('Accuracy')\n",
    "plt.legend()\n",
    "\n",
    "plt.show()"
   ]
  },
  {
   "cell_type": "code",
   "execution_count": 19,
   "metadata": {},
   "outputs": [
    {
     "name": "stdout",
     "output_type": "stream",
     "text": [
      "Train on 7982 samples, validate on 1000 samples\n",
      "Epoch 1/9\n",
      "7982/7982 [==============================] - 1s 151us/step - loss: 2.5529 - accuracy: 0.5278 - val_loss: 1.6965 - val_accuracy: 0.6380\n",
      "Epoch 2/9\n",
      "7982/7982 [==============================] - 1s 138us/step - loss: 1.4146 - accuracy: 0.7097 - val_loss: 1.2961 - val_accuracy: 0.7040\n",
      "Epoch 3/9\n",
      "7982/7982 [==============================] - 1s 139us/step - loss: 1.0420 - accuracy: 0.7824 - val_loss: 1.1257 - val_accuracy: 0.7580\n",
      "Epoch 4/9\n",
      "7982/7982 [==============================] - 1s 139us/step - loss: 0.8122 - accuracy: 0.8270 - val_loss: 1.0264 - val_accuracy: 0.7770\n",
      "Epoch 5/9\n",
      "7982/7982 [==============================] - 1s 142us/step - loss: 0.6389 - accuracy: 0.8672 - val_loss: 0.9661 - val_accuracy: 0.7910\n",
      "Epoch 6/9\n",
      "7982/7982 [==============================] - 1s 146us/step - loss: 0.5068 - accuracy: 0.8959 - val_loss: 0.9135 - val_accuracy: 0.8130\n",
      "Epoch 7/9\n",
      "7982/7982 [==============================] - 1s 142us/step - loss: 0.4057 - accuracy: 0.9167 - val_loss: 0.9014 - val_accuracy: 0.8160\n",
      "Epoch 8/9\n",
      "7982/7982 [==============================] - 1s 141us/step - loss: 0.3278 - accuracy: 0.9322 - val_loss: 0.9036 - val_accuracy: 0.8100\n",
      "Epoch 9/9\n",
      "7982/7982 [==============================] - 1s 145us/step - loss: 0.2739 - accuracy: 0.9414 - val_loss: 0.9068 - val_accuracy: 0.8210\n",
      "2246/2246 [==============================] - 0s 142us/step\n"
     ]
    }
   ],
   "source": [
    "model = models.Sequential()\n",
    "model.add(layers.Dense(64, activation='relu', input_shape=(10000,)))\n",
    "model.add(layers.Dense(64, activation='relu'))\n",
    "model.add(layers.Dense(46, activation='softmax'))\n",
    "\n",
    "model.compile(optimizer='rmsprop',\n",
    "              loss='categorical_crossentropy',\n",
    "              metrics=['accuracy'])\n",
    "model.fit(partial_x_train,\n",
    "          partial_y_train,\n",
    "          epochs=9,\n",
    "          batch_size=512,\n",
    "          validation_data=(x_val, y_val))\n",
    "results = model.evaluate(x_test, one_hot_test_labels)"
   ]
  },
  {
   "cell_type": "code",
   "execution_count": 20,
   "metadata": {},
   "outputs": [
    {
     "data": {
      "text/plain": [
       "[0.9928809197375739, 0.790739119052887]"
      ]
     },
     "execution_count": 20,
     "metadata": {},
     "output_type": "execute_result"
    }
   ],
   "source": [
    "results"
   ]
  },
  {
   "cell_type": "code",
   "execution_count": 21,
   "metadata": {},
   "outputs": [
    {
     "data": {
      "text/plain": [
       "0.201246660730187"
      ]
     },
     "execution_count": 21,
     "metadata": {},
     "output_type": "execute_result"
    }
   ],
   "source": [
    "import copy\n",
    "\n",
    "test_labels_copy = copy.copy(test_labels)\n",
    "np.random.shuffle(test_labels_copy)\n",
    "float(np.sum(np.array(test_labels) == np.array(test_labels_copy))) / len(test_labels)"
   ]
  },
  {
   "cell_type": "code",
   "execution_count": 22,
   "metadata": {},
   "outputs": [],
   "source": [
    "predictions = model.predict(x_test)"
   ]
  },
  {
   "cell_type": "code",
   "execution_count": 23,
   "metadata": {},
   "outputs": [
    {
     "data": {
      "text/plain": [
       "(46,)"
      ]
     },
     "execution_count": 23,
     "metadata": {},
     "output_type": "execute_result"
    }
   ],
   "source": [
    "predictions[0].shape"
   ]
  },
  {
   "cell_type": "code",
   "execution_count": 24,
   "metadata": {},
   "outputs": [
    {
     "data": {
      "text/plain": [
       "1.0000004"
      ]
     },
     "execution_count": 24,
     "metadata": {},
     "output_type": "execute_result"
    }
   ],
   "source": [
    "np.sum(predictions[0])"
   ]
  },
  {
   "cell_type": "code",
   "execution_count": 25,
   "metadata": {},
   "outputs": [
    {
     "data": {
      "text/plain": [
       "3"
      ]
     },
     "execution_count": 25,
     "metadata": {},
     "output_type": "execute_result"
    }
   ],
   "source": [
    "np.argmax(predictions[0])"
   ]
  },
  {
   "cell_type": "code",
   "execution_count": 26,
   "metadata": {},
   "outputs": [],
   "source": [
    "y_train = np.array(train_labels)\n",
    "y_test = np.array(test_labels)"
   ]
  },
  {
   "cell_type": "code",
   "execution_count": 27,
   "metadata": {},
   "outputs": [],
   "source": [
    "model.compile(optimizer='rmsprop', loss='sparse_categorical_crossentropy', metrics=['acc'])"
   ]
  },
  {
   "cell_type": "code",
   "execution_count": 28,
   "metadata": {},
   "outputs": [
    {
     "name": "stdout",
     "output_type": "stream",
     "text": [
      "Train on 7982 samples, validate on 1000 samples\n",
      "Epoch 1/20\n",
      "7982/7982 [==============================] - 2s 218us/step - loss: 3.5152 - accuracy: 0.3799 - val_loss: 3.2285 - val_accuracy: 0.4820\n",
      "Epoch 2/20\n",
      "7982/7982 [==============================] - 2s 194us/step - loss: 3.0800 - accuracy: 0.4916 - val_loss: 2.9813 - val_accuracy: 0.4960\n",
      "Epoch 3/20\n",
      "7982/7982 [==============================] - 2s 192us/step - loss: 2.8661 - accuracy: 0.5130 - val_loss: 2.7993 - val_accuracy: 0.4840\n",
      "Epoch 4/20\n",
      "7982/7982 [==============================] - 2s 206us/step - loss: 2.5711 - accuracy: 0.3177 - val_loss: 2.4834 - val_accuracy: 0.2820\n",
      "Epoch 5/20\n",
      "7982/7982 [==============================] - 2s 202us/step - loss: 2.2330 - accuracy: 0.2820 - val_loss: 2.1697 - val_accuracy: 0.2750\n",
      "Epoch 6/20\n",
      "7982/7982 [==============================] - 2s 194us/step - loss: 1.8432 - accuracy: 0.3944 - val_loss: 1.7350 - val_accuracy: 0.5960\n",
      "Epoch 7/20\n",
      "7982/7982 [==============================] - 2s 197us/step - loss: 1.4789 - accuracy: 0.6145 - val_loss: 1.5651 - val_accuracy: 0.6010\n",
      "Epoch 8/20\n",
      "7982/7982 [==============================] - 2s 195us/step - loss: 1.3075 - accuracy: 0.6678 - val_loss: 1.4834 - val_accuracy: 0.6390\n",
      "Epoch 9/20\n",
      "7982/7982 [==============================] - 2s 193us/step - loss: 1.2057 - accuracy: 0.6941 - val_loss: 1.4674 - val_accuracy: 0.6620\n",
      "Epoch 10/20\n",
      "7982/7982 [==============================] - 2s 197us/step - loss: 1.1228 - accuracy: 0.7117 - val_loss: 1.4607 - val_accuracy: 0.6710\n",
      "Epoch 11/20\n",
      "7982/7982 [==============================] - 2s 194us/step - loss: 1.0523 - accuracy: 0.7328 - val_loss: 1.4420 - val_accuracy: 0.6750\n",
      "Epoch 12/20\n",
      "7982/7982 [==============================] - 2s 195us/step - loss: 0.9906 - accuracy: 0.7467 - val_loss: 1.4839 - val_accuracy: 0.6810\n",
      "Epoch 13/20\n",
      "7982/7982 [==============================] - 2s 194us/step - loss: 0.9396 - accuracy: 0.7580 - val_loss: 1.5027 - val_accuracy: 0.6850\n",
      "Epoch 14/20\n",
      "7982/7982 [==============================] - 2s 197us/step - loss: 0.8956 - accuracy: 0.7706 - val_loss: 1.5321 - val_accuracy: 0.6850\n",
      "Epoch 15/20\n",
      "7982/7982 [==============================] - 2s 195us/step - loss: 0.8581 - accuracy: 0.7760 - val_loss: 1.5523 - val_accuracy: 0.6890\n",
      "Epoch 16/20\n",
      "7982/7982 [==============================] - 2s 194us/step - loss: 0.8242 - accuracy: 0.7801 - val_loss: 1.5740 - val_accuracy: 0.6900\n",
      "Epoch 17/20\n",
      "7982/7982 [==============================] - 2s 194us/step - loss: 0.7975 - accuracy: 0.7858 - val_loss: 1.6478 - val_accuracy: 0.6940\n",
      "Epoch 18/20\n",
      "7982/7982 [==============================] - 2s 194us/step - loss: 0.7709 - accuracy: 0.7985 - val_loss: 1.7139 - val_accuracy: 0.6920\n",
      "Epoch 19/20\n",
      "7982/7982 [==============================] - 2s 194us/step - loss: 0.7486 - accuracy: 0.8014 - val_loss: 1.7365 - val_accuracy: 0.6800\n",
      "Epoch 20/20\n",
      "7982/7982 [==============================] - 2s 195us/step - loss: 0.7284 - accuracy: 0.8062 - val_loss: 1.7526 - val_accuracy: 0.6850\n"
     ]
    },
    {
     "data": {
      "text/plain": [
       "<keras.callbacks.callbacks.History at 0xc1da0892b0>"
      ]
     },
     "execution_count": 28,
     "metadata": {},
     "output_type": "execute_result"
    }
   ],
   "source": [
    "model = models.Sequential()\n",
    "model.add(layers.Dense(64, activation='relu', input_shape=(10000,)))\n",
    "model.add(layers.Dense(4, activation='relu'))\n",
    "model.add(layers.Dense(46, activation='softmax'))\n",
    "\n",
    "model.compile(optimizer='rmsprop',\n",
    "              loss='categorical_crossentropy',\n",
    "              metrics=['accuracy'])\n",
    "model.fit(partial_x_train,\n",
    "          partial_y_train,\n",
    "          epochs=20,\n",
    "          batch_size=128,\n",
    "          validation_data=(x_val, y_val))"
   ]
  },
  {
   "cell_type": "code",
   "execution_count": null,
   "metadata": {},
   "outputs": [],
   "source": []
  }
 ],
 "metadata": {
  "kernelspec": {
   "display_name": "Python 3",
   "language": "python",
   "name": "python3"
  },
  "language_info": {
   "codemirror_mode": {
    "name": "ipython",
    "version": 3
   },
   "file_extension": ".py",
   "mimetype": "text/x-python",
   "name": "python",
   "nbconvert_exporter": "python",
   "pygments_lexer": "ipython3",
   "version": "3.7.3"
  }
 },
 "nbformat": 4,
 "nbformat_minor": 2
}
